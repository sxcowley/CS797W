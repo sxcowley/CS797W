{
 "cells": [
  {
   "cell_type": "code",
   "execution_count": 1,
   "metadata": {},
   "outputs": [
    {
     "name": "stdout",
     "output_type": "stream",
     "text": [
      "Defaulting to user installation because normal site-packages is not writeable\n",
      "Requirement already satisfied: qiskit-ibm-runtime in c:\\users\\cowle\\appdata\\roaming\\python\\python313\\site-packages (0.36.1)\n",
      "Requirement already satisfied: requests>=2.19 in c:\\users\\cowle\\appdata\\roaming\\python\\python313\\site-packages (from qiskit-ibm-runtime) (2.32.3)\n",
      "Requirement already satisfied: requests-ntlm>=1.1.0 in c:\\users\\cowle\\appdata\\roaming\\python\\python313\\site-packages (from qiskit-ibm-runtime) (1.3.0)\n",
      "Requirement already satisfied: numpy>=1.13 in c:\\users\\cowle\\appdata\\roaming\\python\\python313\\site-packages (from qiskit-ibm-runtime) (2.2.2)\n",
      "Requirement already satisfied: urllib3>=1.21.1 in c:\\users\\cowle\\appdata\\roaming\\python\\python313\\site-packages (from qiskit-ibm-runtime) (2.3.0)\n",
      "Requirement already satisfied: python-dateutil>=2.8.0 in c:\\users\\cowle\\appdata\\roaming\\python\\python313\\site-packages (from qiskit-ibm-runtime) (2.9.0.post0)\n",
      "Requirement already satisfied: websocket-client>=1.5.1 in c:\\users\\cowle\\appdata\\roaming\\python\\python313\\site-packages (from qiskit-ibm-runtime) (1.8.0)\n",
      "Requirement already satisfied: ibm-platform-services>=0.22.6 in c:\\users\\cowle\\appdata\\roaming\\python\\python313\\site-packages (from qiskit-ibm-runtime) (0.59.1)\n",
      "Requirement already satisfied: pydantic<2.10,>=2.5.0 in c:\\users\\cowle\\appdata\\roaming\\python\\python313\\site-packages (from qiskit-ibm-runtime) (2.9.2)\n",
      "Requirement already satisfied: qiskit>=1.3.2 in c:\\users\\cowle\\appdata\\roaming\\python\\python313\\site-packages (from qiskit-ibm-runtime) (1.3.2)\n",
      "Requirement already satisfied: ibm_cloud_sdk_core<4.0.0,>=3.22.0 in c:\\users\\cowle\\appdata\\roaming\\python\\python313\\site-packages (from ibm-platform-services>=0.22.6->qiskit-ibm-runtime) (3.22.1)\n",
      "Requirement already satisfied: annotated-types>=0.6.0 in c:\\users\\cowle\\appdata\\roaming\\python\\python313\\site-packages (from pydantic<2.10,>=2.5.0->qiskit-ibm-runtime) (0.7.0)\n",
      "Requirement already satisfied: pydantic-core==2.23.4 in c:\\users\\cowle\\appdata\\roaming\\python\\python313\\site-packages (from pydantic<2.10,>=2.5.0->qiskit-ibm-runtime) (2.23.4)\n",
      "Requirement already satisfied: typing-extensions>=4.12.2 in c:\\users\\cowle\\appdata\\roaming\\python\\python313\\site-packages (from pydantic<2.10,>=2.5.0->qiskit-ibm-runtime) (4.12.2)\n",
      "Requirement already satisfied: six>=1.5 in c:\\users\\cowle\\appdata\\roaming\\python\\python313\\site-packages (from python-dateutil>=2.8.0->qiskit-ibm-runtime) (1.17.0)\n",
      "Requirement already satisfied: rustworkx>=0.15.0 in c:\\users\\cowle\\appdata\\roaming\\python\\python313\\site-packages (from qiskit>=1.3.2->qiskit-ibm-runtime) (0.16.0)\n",
      "Requirement already satisfied: scipy>=1.5 in c:\\users\\cowle\\appdata\\roaming\\python\\python313\\site-packages (from qiskit>=1.3.2->qiskit-ibm-runtime) (1.15.1)\n",
      "Requirement already satisfied: sympy>=1.3 in c:\\users\\cowle\\appdata\\roaming\\python\\python313\\site-packages (from qiskit>=1.3.2->qiskit-ibm-runtime) (1.13.3)\n",
      "Requirement already satisfied: dill>=0.3 in c:\\users\\cowle\\appdata\\roaming\\python\\python313\\site-packages (from qiskit>=1.3.2->qiskit-ibm-runtime) (0.3.9)\n",
      "Requirement already satisfied: stevedore>=3.0.0 in c:\\users\\cowle\\appdata\\roaming\\python\\python313\\site-packages (from qiskit>=1.3.2->qiskit-ibm-runtime) (5.4.0)\n",
      "Requirement already satisfied: symengine<0.14,>=0.11 in c:\\users\\cowle\\appdata\\roaming\\python\\python313\\site-packages (from qiskit>=1.3.2->qiskit-ibm-runtime) (0.13.0)\n",
      "Requirement already satisfied: charset-normalizer<4,>=2 in c:\\users\\cowle\\appdata\\roaming\\python\\python313\\site-packages (from requests>=2.19->qiskit-ibm-runtime) (3.4.1)\n",
      "Requirement already satisfied: idna<4,>=2.5 in c:\\users\\cowle\\appdata\\roaming\\python\\python313\\site-packages (from requests>=2.19->qiskit-ibm-runtime) (3.10)\n",
      "Requirement already satisfied: certifi>=2017.4.17 in c:\\users\\cowle\\appdata\\roaming\\python\\python313\\site-packages (from requests>=2.19->qiskit-ibm-runtime) (2025.1.31)\n",
      "Requirement already satisfied: cryptography>=1.3 in c:\\users\\cowle\\appdata\\roaming\\python\\python313\\site-packages (from requests-ntlm>=1.1.0->qiskit-ibm-runtime) (44.0.1)\n",
      "Requirement already satisfied: pyspnego>=0.4.0 in c:\\users\\cowle\\appdata\\roaming\\python\\python313\\site-packages (from requests-ntlm>=1.1.0->qiskit-ibm-runtime) (0.11.2)\n",
      "Requirement already satisfied: cffi>=1.12 in c:\\users\\cowle\\appdata\\roaming\\python\\python313\\site-packages (from cryptography>=1.3->requests-ntlm>=1.1.0->qiskit-ibm-runtime) (1.17.1)\n",
      "Requirement already satisfied: PyJWT<3.0.0,>=2.8.0 in c:\\users\\cowle\\appdata\\roaming\\python\\python313\\site-packages (from ibm_cloud_sdk_core<4.0.0,>=3.22.0->ibm-platform-services>=0.22.6->qiskit-ibm-runtime) (2.10.1)\n",
      "Requirement already satisfied: sspilib>=0.1.0 in c:\\users\\cowle\\appdata\\roaming\\python\\python313\\site-packages (from pyspnego>=0.4.0->requests-ntlm>=1.1.0->qiskit-ibm-runtime) (0.2.0)\n",
      "Requirement already satisfied: pbr>=2.0.0 in c:\\users\\cowle\\appdata\\roaming\\python\\python313\\site-packages (from stevedore>=3.0.0->qiskit>=1.3.2->qiskit-ibm-runtime) (6.1.0)\n",
      "Requirement already satisfied: mpmath<1.4,>=1.1.0 in c:\\users\\cowle\\appdata\\roaming\\python\\python313\\site-packages (from sympy>=1.3->qiskit>=1.3.2->qiskit-ibm-runtime) (1.3.0)\n",
      "Requirement already satisfied: pycparser in c:\\users\\cowle\\appdata\\roaming\\python\\python313\\site-packages (from cffi>=1.12->cryptography>=1.3->requests-ntlm>=1.1.0->qiskit-ibm-runtime) (2.22)\n",
      "Note: you may need to restart the kernel to use updated packages.\n",
      "Defaulting to user installation because normal site-packages is not writeable\n",
      "Requirement already satisfied: qiskit_aer in c:\\users\\cowle\\appdata\\roaming\\python\\python313\\site-packages (0.16.0)\n",
      "Requirement already satisfied: qiskit>=1.1.0 in c:\\users\\cowle\\appdata\\roaming\\python\\python313\\site-packages (from qiskit_aer) (1.3.2)\n",
      "Requirement already satisfied: numpy>=1.16.3 in c:\\users\\cowle\\appdata\\roaming\\python\\python313\\site-packages (from qiskit_aer) (2.2.2)\n",
      "Requirement already satisfied: scipy>=1.0 in c:\\users\\cowle\\appdata\\roaming\\python\\python313\\site-packages (from qiskit_aer) (1.15.1)\n",
      "Requirement already satisfied: psutil>=5 in c:\\users\\cowle\\appdata\\roaming\\python\\python313\\site-packages (from qiskit_aer) (6.1.1)\n",
      "Requirement already satisfied: rustworkx>=0.15.0 in c:\\users\\cowle\\appdata\\roaming\\python\\python313\\site-packages (from qiskit>=1.1.0->qiskit_aer) (0.16.0)\n",
      "Requirement already satisfied: sympy>=1.3 in c:\\users\\cowle\\appdata\\roaming\\python\\python313\\site-packages (from qiskit>=1.1.0->qiskit_aer) (1.13.3)\n",
      "Requirement already satisfied: dill>=0.3 in c:\\users\\cowle\\appdata\\roaming\\python\\python313\\site-packages (from qiskit>=1.1.0->qiskit_aer) (0.3.9)\n",
      "Requirement already satisfied: python-dateutil>=2.8.0 in c:\\users\\cowle\\appdata\\roaming\\python\\python313\\site-packages (from qiskit>=1.1.0->qiskit_aer) (2.9.0.post0)\n",
      "Requirement already satisfied: stevedore>=3.0.0 in c:\\users\\cowle\\appdata\\roaming\\python\\python313\\site-packages (from qiskit>=1.1.0->qiskit_aer) (5.4.0)\n",
      "Requirement already satisfied: typing-extensions in c:\\users\\cowle\\appdata\\roaming\\python\\python313\\site-packages (from qiskit>=1.1.0->qiskit_aer) (4.12.2)\n",
      "Requirement already satisfied: symengine<0.14,>=0.11 in c:\\users\\cowle\\appdata\\roaming\\python\\python313\\site-packages (from qiskit>=1.1.0->qiskit_aer) (0.13.0)\n",
      "Requirement already satisfied: six>=1.5 in c:\\users\\cowle\\appdata\\roaming\\python\\python313\\site-packages (from python-dateutil>=2.8.0->qiskit>=1.1.0->qiskit_aer) (1.17.0)\n",
      "Requirement already satisfied: pbr>=2.0.0 in c:\\users\\cowle\\appdata\\roaming\\python\\python313\\site-packages (from stevedore>=3.0.0->qiskit>=1.1.0->qiskit_aer) (6.1.0)\n",
      "Requirement already satisfied: mpmath<1.4,>=1.1.0 in c:\\users\\cowle\\appdata\\roaming\\python\\python313\\site-packages (from sympy>=1.3->qiskit>=1.1.0->qiskit_aer) (1.3.0)\n",
      "Note: you may need to restart the kernel to use updated packages.\n",
      "Defaulting to user installation because normal site-packages is not writeable\n",
      "Requirement already satisfied: qiskit in c:\\users\\cowle\\appdata\\roaming\\python\\python313\\site-packages (1.3.2)\n",
      "Requirement already satisfied: rustworkx>=0.15.0 in c:\\users\\cowle\\appdata\\roaming\\python\\python313\\site-packages (from qiskit) (0.16.0)\n",
      "Requirement already satisfied: numpy<3,>=1.17 in c:\\users\\cowle\\appdata\\roaming\\python\\python313\\site-packages (from qiskit) (2.2.2)\n",
      "Requirement already satisfied: scipy>=1.5 in c:\\users\\cowle\\appdata\\roaming\\python\\python313\\site-packages (from qiskit) (1.15.1)\n",
      "Requirement already satisfied: sympy>=1.3 in c:\\users\\cowle\\appdata\\roaming\\python\\python313\\site-packages (from qiskit) (1.13.3)\n",
      "Requirement already satisfied: dill>=0.3 in c:\\users\\cowle\\appdata\\roaming\\python\\python313\\site-packages (from qiskit) (0.3.9)\n",
      "Requirement already satisfied: python-dateutil>=2.8.0 in c:\\users\\cowle\\appdata\\roaming\\python\\python313\\site-packages (from qiskit) (2.9.0.post0)\n",
      "Requirement already satisfied: stevedore>=3.0.0 in c:\\users\\cowle\\appdata\\roaming\\python\\python313\\site-packages (from qiskit) (5.4.0)\n",
      "Requirement already satisfied: typing-extensions in c:\\users\\cowle\\appdata\\roaming\\python\\python313\\site-packages (from qiskit) (4.12.2)\n",
      "Requirement already satisfied: symengine<0.14,>=0.11 in c:\\users\\cowle\\appdata\\roaming\\python\\python313\\site-packages (from qiskit) (0.13.0)\n",
      "Requirement already satisfied: six>=1.5 in c:\\users\\cowle\\appdata\\roaming\\python\\python313\\site-packages (from python-dateutil>=2.8.0->qiskit) (1.17.0)\n",
      "Requirement already satisfied: pbr>=2.0.0 in c:\\users\\cowle\\appdata\\roaming\\python\\python313\\site-packages (from stevedore>=3.0.0->qiskit) (6.1.0)\n",
      "Requirement already satisfied: mpmath<1.4,>=1.1.0 in c:\\users\\cowle\\appdata\\roaming\\python\\python313\\site-packages (from sympy>=1.3->qiskit) (1.3.0)\n",
      "Note: you may need to restart the kernel to use updated packages.\n",
      "Defaulting to user installation because normal site-packages is not writeable\n",
      "Requirement already satisfied: matplotlib in c:\\users\\cowle\\appdata\\roaming\\python\\python313\\site-packages (3.10.0)\n",
      "Requirement already satisfied: contourpy>=1.0.1 in c:\\users\\cowle\\appdata\\roaming\\python\\python313\\site-packages (from matplotlib) (1.3.1)\n",
      "Requirement already satisfied: cycler>=0.10 in c:\\users\\cowle\\appdata\\roaming\\python\\python313\\site-packages (from matplotlib) (0.12.1)\n",
      "Requirement already satisfied: fonttools>=4.22.0 in c:\\users\\cowle\\appdata\\roaming\\python\\python313\\site-packages (from matplotlib) (4.55.8)\n",
      "Requirement already satisfied: kiwisolver>=1.3.1 in c:\\users\\cowle\\appdata\\roaming\\python\\python313\\site-packages (from matplotlib) (1.4.8)\n",
      "Requirement already satisfied: numpy>=1.23 in c:\\users\\cowle\\appdata\\roaming\\python\\python313\\site-packages (from matplotlib) (2.2.2)\n",
      "Requirement already satisfied: packaging>=20.0 in c:\\users\\cowle\\appdata\\roaming\\python\\python313\\site-packages (from matplotlib) (24.2)\n",
      "Requirement already satisfied: pillow>=8 in c:\\users\\cowle\\appdata\\roaming\\python\\python313\\site-packages (from matplotlib) (11.1.0)\n",
      "Requirement already satisfied: pyparsing>=2.3.1 in c:\\users\\cowle\\appdata\\roaming\\python\\python313\\site-packages (from matplotlib) (3.2.1)\n",
      "Requirement already satisfied: python-dateutil>=2.7 in c:\\users\\cowle\\appdata\\roaming\\python\\python313\\site-packages (from matplotlib) (2.9.0.post0)\n",
      "Requirement already satisfied: six>=1.5 in c:\\users\\cowle\\appdata\\roaming\\python\\python313\\site-packages (from python-dateutil>=2.7->matplotlib) (1.17.0)\n",
      "Note: you may need to restart the kernel to use updated packages.\n"
     ]
    }
   ],
   "source": [
    "# %% [Install required packages]\n",
    "%pip install qiskit-ibm-runtime\n",
    "%pip install qiskit_aer\n",
    "%pip install qiskit\n",
    "%pip install matplotlib\n",
    "\n",
    "# %% [Imports]\n",
    "from qiskit import QuantumCircuit\n",
    "from qiskit_ibm_runtime import QiskitRuntimeService, Sampler\n",
    "from qiskit.visualization import plot_histogram\n",
    "import matplotlib.pyplot as plt\n",
    "from qiskit_aer import AerSimulator"
   ]
  },
  {
   "cell_type": "code",
   "execution_count": 2,
   "metadata": {},
   "outputs": [],
   "source": [
    "import numpy as np\n",
    "import qiskit as qk\n",
    "from qiskit import transpile\n",
    "from qiskit_aer import Aer\n",
    "from qiskit.circuit import QuantumCircuit, QuantumRegister, ClassicalRegister\n",
    "from qiskit.visualization import plot_histogram\n",
    "import math\n"
   ]
  },
  {
   "cell_type": "code",
   "execution_count": 3,
   "metadata": {},
   "outputs": [],
   "source": [
    "\n",
    "# %% [Save IBM Quantum account credentials]\n",
    "QiskitRuntimeService.save_account(\n",
    "    channel=\"ibm_quantum\",\n",
    "    token=\"0a36966977a20de04e025a331253d45c66f8f0139cbb352cb382c5cfee983a61ee15dc87df60f9d918d753e8009d52b1270f6e67f04e3ee4a09165246759aac1\",\n",
    "    set_as_default=True,\n",
    "    overwrite=True\n",
    ")"
   ]
  },
  {
   "cell_type": "code",
   "execution_count": 4,
   "metadata": {},
   "outputs": [
    {
     "name": "stdout",
     "output_type": "stream",
     "text": [
      "QASM Simulator Result (Counts): {'1': 1024}\n"
     ]
    },
    {
     "data": {
      "image/png": "[encoded data removed]",
      "text/plain": [
       "<Figure size 640x480 with 1 Axes>"
      ]
     },
     "execution_count": 4,
     "metadata": {},
     "output_type": "execute_result"
    }
   ],
   "source": [
    "# %% [Create the quantum circuit]\n",
    "circuit = QuantumCircuit(1, 1)  # 1 qubit, 1 classical bit\n",
    "circuit.x(0)                    # Apply X gate to flip qubit to |1⟩\n",
    "circuit.measure(0, 0)           # Measure qubit 0 into classical bit 0\n",
    "\n",
    "# %% [Simulate using QASM]\n",
    "simulator = AerSimulator(method='automatic')  # Use AerSimulator with QASM\n",
    "sim_job = simulator.run(circuit, shots=1024)  # Run with 1024 shots\n",
    "sim_result = sim_job.result()\n",
    "sim_counts = sim_result.get_counts()\n",
    "\n",
    "# Show simulation result\n",
    "print(\"QASM Simulator Result (Counts):\", sim_counts)\n",
    "\n",
    "# Plot histogram for simulation\n",
    "plot_histogram(sim_counts, title=\"QASM Simulator Histogram\")\n",
    "plt.show()  # Ensure the plot displays\n",
    "\n",
    "# Plot histogram for simulation using Qiskit's plot_histogram\n",
    "plot_histogram(sim_counts, title=\"QASM Simulator Histogram\")  # No .show() needed with %matplotlib inline"
   ]
  },
  {
   "cell_type": "code",
   "execution_count": 5,
   "metadata": {},
   "outputs": [
    {
     "name": "stdout",
     "output_type": "stream",
     "text": [
      "QASM Simulator Result (Counts): {'00': 1024}\n"
     ]
    },
    {
     "data": {
      "image/png": "[encoded data removed]",
      "text/plain": [
       "<Figure size 640x480 with 1 Axes>"
      ]
     },
     "execution_count": 5,
     "metadata": {},
     "output_type": "execute_result"
    }
   ],
   "source": [
    "# %% [Create quantum circuit (CZ gate)]\n",
    "circuit = QuantumCircuit(2, 2)  # 2 qubits, 2 classical bits\n",
    "circuit.cz(0, 1)                # Apply CZ gate between qubits 0 and 1\n",
    "circuit.measure([0, 1], [0, 1]) # Measure qubits 0 and 1 into classical bits 0 and\n",
    "\n",
    "# %% [Simulate using QASM]\n",
    "simulator = AerSimulator(method='automatic')  # Use AerSimulator with QASM\n",
    "sim_job = simulator.run(circuit, shots=1024)  # Run with 1024 shots\n",
    "sim_result = sim_job.result()\n",
    "sim_counts = sim_result.get_counts()\n",
    "\n",
    "# Show simulation result\n",
    "print(\"QASM Simulator Result (Counts):\", sim_counts)\n",
    "\n",
    "# Plot histogram for simulation\n",
    "plot_histogram(sim_counts, title=\"QASM Simulator Histogram\")\n",
    "plt.show()  # Ensure the plot displays\n",
    "\n",
    "# Plot histogram for simulation using Qiskit's plot_histogram\n",
    "plot_histogram(sim_counts, title=\"QASM Simulator Histogram\")  # No .show() needed with %matplotlib inline"
   ]
  },
  {
   "cell_type": "code",
   "execution_count": 6,
   "metadata": {},
   "outputs": [
    {
     "ename": "IBMInputValueError",
     "evalue": "'The instruction cz on qubits (0, 1) is not supported by the target system. Circuits that do not match the target hardware definition are no longer supported after March 4, 2024. See the transpilation documentation (https://docs.quantum.ibm.com/guides/transpile) for instructions to transform circuits and the primitive examples (https://docs.quantum.ibm.com/guides/primitives-examples) to see this coupled with operator transformations.'",
     "output_type": "error",
     "traceback": [
      "\u001b[1;31m---------------------------------------------------------------------------\u001b[0m",
      "\u001b[1;31mIBMInputValueError\u001b[0m                        Traceback (most recent call last)",
      "Cell \u001b[1;32mIn[6], line 4\u001b[0m\n\u001b[0;32m      2\u001b[0m service \u001b[38;5;241m=\u001b[39m QiskitRuntimeService()\n\u001b[0;32m      3\u001b[0m backend \u001b[38;5;241m=\u001b[39m service\u001b[38;5;241m.\u001b[39mbackend(\u001b[38;5;124m\"\u001b[39m\u001b[38;5;124mibm_brisbane\u001b[39m\u001b[38;5;124m\"\u001b[39m)\n\u001b[1;32m----> 4\u001b[0m ibm_job \u001b[38;5;241m=\u001b[39m \u001b[43mSampler\u001b[49m\u001b[43m(\u001b[49m\u001b[43mbackend\u001b[49m\u001b[43m)\u001b[49m\u001b[38;5;241;43m.\u001b[39;49m\u001b[43mrun\u001b[49m\u001b[43m(\u001b[49m\u001b[43m[\u001b[49m\u001b[43mcircuit\u001b[49m\u001b[43m]\u001b[49m\u001b[43m)\u001b[49m  \u001b[38;5;66;03m# Run on IBM Brisbane\u001b[39;00m\n\u001b[0;32m      6\u001b[0m \u001b[38;5;66;03m# Show job ID and wait for result\u001b[39;00m\n\u001b[0;32m      7\u001b[0m \u001b[38;5;28mprint\u001b[39m(\u001b[38;5;124mf\u001b[39m\u001b[38;5;124m\"\u001b[39m\u001b[38;5;124mIBM Job ID: \u001b[39m\u001b[38;5;132;01m{\u001b[39;00mibm_job\u001b[38;5;241m.\u001b[39mjob_id()\u001b[38;5;132;01m}\u001b[39;00m\u001b[38;5;124m\"\u001b[39m)\n",
      "File \u001b[1;32m~\\AppData\\Roaming\\Python\\Python313\\site-packages\\qiskit_ibm_runtime\\sampler.py:110\u001b[0m, in \u001b[0;36mSamplerV2.run\u001b[1;34m(self, pubs, shots)\u001b[0m\n\u001b[0;32m    106\u001b[0m coerced_pubs \u001b[38;5;241m=\u001b[39m [SamplerPub\u001b[38;5;241m.\u001b[39mcoerce(pub, shots) \u001b[38;5;28;01mfor\u001b[39;00m pub \u001b[38;5;129;01min\u001b[39;00m pubs]\n\u001b[0;32m    108\u001b[0m validate_classical_registers(coerced_pubs)\n\u001b[1;32m--> 110\u001b[0m \u001b[38;5;28;01mreturn\u001b[39;00m \u001b[38;5;28;43mself\u001b[39;49m\u001b[38;5;241;43m.\u001b[39;49m\u001b[43m_run\u001b[49m\u001b[43m(\u001b[49m\u001b[43mcoerced_pubs\u001b[49m\u001b[43m)\u001b[49m\n",
      "File \u001b[1;32m~\\AppData\\Roaming\\Python\\Python313\\site-packages\\qiskit_ibm_runtime\\base_primitive.py:159\u001b[0m, in \u001b[0;36mBasePrimitiveV2._run\u001b[1;34m(self, pubs)\u001b[0m\n\u001b[0;32m    157\u001b[0m \u001b[38;5;28;01mfor\u001b[39;00m pub \u001b[38;5;129;01min\u001b[39;00m pubs:\n\u001b[0;32m    158\u001b[0m     \u001b[38;5;28;01mif\u001b[39;00m \u001b[38;5;28mgetattr\u001b[39m(\u001b[38;5;28mself\u001b[39m\u001b[38;5;241m.\u001b[39m_backend, \u001b[38;5;124m\"\u001b[39m\u001b[38;5;124mtarget\u001b[39m\u001b[38;5;124m\"\u001b[39m, \u001b[38;5;28;01mNone\u001b[39;00m) \u001b[38;5;129;01mand\u001b[39;00m \u001b[38;5;129;01mnot\u001b[39;00m is_simulator(\u001b[38;5;28mself\u001b[39m\u001b[38;5;241m.\u001b[39m_backend):\n\u001b[1;32m--> 159\u001b[0m         \u001b[43mvalidate_isa_circuits\u001b[49m\u001b[43m(\u001b[49m\u001b[43m[\u001b[49m\u001b[43mpub\u001b[49m\u001b[38;5;241;43m.\u001b[39;49m\u001b[43mcircuit\u001b[49m\u001b[43m]\u001b[49m\u001b[43m,\u001b[49m\u001b[43m \u001b[49m\u001b[38;5;28;43mself\u001b[39;49m\u001b[38;5;241;43m.\u001b[39;49m\u001b[43m_backend\u001b[49m\u001b[38;5;241;43m.\u001b[39;49m\u001b[43mtarget\u001b[49m\u001b[43m)\u001b[49m\n\u001b[0;32m    161\u001b[0m     \u001b[38;5;28;01mif\u001b[39;00m \u001b[38;5;28misinstance\u001b[39m(\u001b[38;5;28mself\u001b[39m\u001b[38;5;241m.\u001b[39m_backend, IBMBackend):\n\u001b[0;32m    162\u001b[0m         \u001b[38;5;28mself\u001b[39m\u001b[38;5;241m.\u001b[39m_backend\u001b[38;5;241m.\u001b[39mcheck_faulty(pub\u001b[38;5;241m.\u001b[39mcircuit)\n",
      "File \u001b[1;32m~\\AppData\\Roaming\\Python\\Python313\\site-packages\\qiskit_ibm_runtime\\utils\\validations.py:90\u001b[0m, in \u001b[0;36mvalidate_isa_circuits\u001b[1;34m(circuits, target)\u001b[0m\n\u001b[0;32m     88\u001b[0m message \u001b[38;5;241m=\u001b[39m is_isa_circuit(circuit, target)\n\u001b[0;32m     89\u001b[0m \u001b[38;5;28;01mif\u001b[39;00m message:\n\u001b[1;32m---> 90\u001b[0m     \u001b[38;5;28;01mraise\u001b[39;00m IBMInputValueError(\n\u001b[0;32m     91\u001b[0m         message\n\u001b[0;32m     92\u001b[0m         \u001b[38;5;241m+\u001b[39m \u001b[38;5;124m\"\u001b[39m\u001b[38;5;124m Circuits that do not match the target hardware definition are no longer \u001b[39m\u001b[38;5;124m\"\u001b[39m\n\u001b[0;32m     93\u001b[0m         \u001b[38;5;124m\"\u001b[39m\u001b[38;5;124msupported after March 4, 2024. See the transpilation documentation \u001b[39m\u001b[38;5;124m\"\u001b[39m\n\u001b[0;32m     94\u001b[0m         \u001b[38;5;124m\"\u001b[39m\u001b[38;5;124m(https://docs.quantum.ibm.com/guides/transpile) for instructions \u001b[39m\u001b[38;5;124m\"\u001b[39m\n\u001b[0;32m     95\u001b[0m         \u001b[38;5;124m\"\u001b[39m\u001b[38;5;124mto transform circuits and the primitive examples \u001b[39m\u001b[38;5;124m\"\u001b[39m\n\u001b[0;32m     96\u001b[0m         \u001b[38;5;124m\"\u001b[39m\u001b[38;5;124m(https://docs.quantum.ibm.com/guides/primitives-examples) to see \u001b[39m\u001b[38;5;124m\"\u001b[39m\n\u001b[0;32m     97\u001b[0m         \u001b[38;5;124m\"\u001b[39m\u001b[38;5;124mthis coupled with operator transformations.\u001b[39m\u001b[38;5;124m\"\u001b[39m\n\u001b[0;32m     98\u001b[0m     )\n",
      "\u001b[1;31mIBMInputValueError\u001b[0m: 'The instruction cz on qubits (0, 1) is not supported by the target system. Circuits that do not match the target hardware definition are no longer supported after March 4, 2024. See the transpilation documentation (https://docs.quantum.ibm.com/guides/transpile) for instructions to transform circuits and the primitive examples (https://docs.quantum.ibm.com/guides/primitives-examples) to see this coupled with operator transformations.'"
     ]
    }
   ],
   "source": [
    "# %% [Run on IBM hardware]\n",
    "service = QiskitRuntimeService()\n",
    "backend = service.backend(\"ibm_brisbane\")\n",
    "ibm_job = Sampler(backend).run([circuit])  # Run on IBM Brisbane\n",
    "\n",
    "# Show job ID and wait for result\n",
    "print(f\"IBM Job ID: {ibm_job.job_id()}\")\n",
    "ibm_result = ibm_job.result()\n",
    "print(\"IBM Brisbane Result:\", ibm_result)\n",
    "\n",
    "# Extract and process IBM result for histogram\n",
    "bit_array = ibm_result[0].data.c  # Access the measurement data\n",
    "try:\n",
    "    ibm_counts = bit_array.get_counts()  # Try built-in method\n",
    "except AttributeError:\n",
    "    # Manual counting if get_counts() is unavailable\n",
    "    ibm_counts = {'0': 0, '1': 0}\n",
    "    for shot in bit_array.array:\n",
    "        outcome = str(shot)\n",
    "        ibm_counts[outcome] = ibm_counts.get(outcome, 0) + 1\n",
    "\n",
    "# Show IBM counts\n",
    "print(\"IBM Brisbane Counts:\", ibm_counts)\n",
    "\n",
    "# Plot histogram for IBM result using Matplotlib\n",
    "states = list(ibm_counts.keys())\n",
    "values = list(ibm_counts.values())\n",
    "plt.bar(states, values, color='skyblue')\n",
    "plt.xlabel('Measurement Outcome')\n",
    "plt.ylabel('Counts')\n",
    "plt.title('IBM Brisbane Histogram')\n",
    "plt.show()\n",
    "\n",
    "# %%"
   ]
  },
  {
   "cell_type": "code",
   "execution_count": null,
   "metadata": {},
   "outputs": [],
   "source": []
  }
 ],
 "metadata": {
  "kernelspec": {
   "display_name": "Python 3",
   "language": "python",
   "name": "python3"
  },
  "language_info": {
   "codemirror_mode": {
    "name": "ipython",
    "version": 3
   },
   "file_extension": ".py",
   "mimetype": "text/x-python",
   "name": "python",
   "nbconvert_exporter": "python",
   "pygments_lexer": "ipython3",
   "version": "3.13.1"
  }
 },
 "nbformat": 4,
 "nbformat_minor": 2
}
